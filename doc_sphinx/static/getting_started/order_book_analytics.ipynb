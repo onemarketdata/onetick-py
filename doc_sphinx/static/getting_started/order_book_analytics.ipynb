{
 "cells": [
  {
   "attachments": {},
   "cell_type": "markdown",
   "id": "c4ce8bd1-58dc-46f5-b290-20d07185e2f0",
   "metadata": {},
   "source": [
    "# Order Book Analytics"
   ]
  },
  {
   "attachments": {},
   "cell_type": "markdown",
   "id": "61ba94e2-c191-459c-a5ca-7413cd01ec36",
   "metadata": {
    "tags": []
   },
   "source": [
    "`onetick-py` offers functions for analyzing tick-by-tick order book. There are three representations of an order book. We'll show top 3 levels only for the ease of exposition.\n",
    "\n",
    "A book can be displayed with a tick per level per side. We refer to a level in the book as a 'price level' or 'prl'."
   ]
  },
  {
   "cell_type": "code",
   "execution_count": null,
   "id": "0ebfd093-d330-4244-a383-1e1f42f30547",
   "metadata": {},
   "outputs": [],
   "source": [
    "import onetick.py as otp\n",
    "\n",
    "s = otp.dt(2024, 2, 1, 10)\n",
    "\n",
    "prl = otp.ObSnapshot(db='CME_SAMPLE', tick_type='PRL_FULL', max_levels=3)\n",
    "# we can use the same timestamp for the start an the end times when we just need a snapshot\n",
    "otp.run(prl, symbols=r'NQ\\H24', start=s, end=s)"
   ]
  },
  {
   "attachments": {},
   "cell_type": "markdown",
   "id": "0dc1c79a-86ba-4409-a335-ec3d300017f2",
   "metadata": {},
   "source": [
    "Alternatively, a book can show a tick per level with both ask and bid price/size info."
   ]
  },
  {
   "cell_type": "code",
   "execution_count": null,
   "id": "23c0f013-63d4-4365-a78c-930e3a84399d",
   "metadata": {},
   "outputs": [],
   "source": [
    "prl = otp.ObSnapshotWide(db='CME_SAMPLE', tick_type='PRL_FULL', max_levels=3)\n",
    "otp.run(prl, symbols=r'NQ\\H24', start=s, end=s)"
   ]
  },
  {
   "attachments": {},
   "cell_type": "markdown",
   "id": "4c013e5c-2958-4b08-86e3-18fb07df015e",
   "metadata": {},
   "source": [
    "Finally, all levels can be displayed in one tick."
   ]
  },
  {
   "cell_type": "code",
   "execution_count": null,
   "id": "92e19c89-78f4-4f9b-a8ba-20080e62f367",
   "metadata": {},
   "outputs": [],
   "source": [
    "prl = otp.ObSnapshotFlat(db='CME_SAMPLE', tick_type='PRL_FULL', max_levels=3)\n",
    "print(otp.run(prl, symbols=r'NQ\\H24', start=s, end=s))"
   ]
  },
  {
   "attachments": {},
   "cell_type": "markdown",
   "id": "621e5e61-c69c-4bad-9b95-81aef68fb6df",
   "metadata": {},
   "source": [
    "We can output the book (in any of the three representation) on every change to price/size at any of the levels."
   ]
  },
  {
   "cell_type": "code",
   "execution_count": null,
   "id": "ccf59231-77dc-43b6-935a-f87fd0ef1456",
   "metadata": {},
   "outputs": [],
   "source": [
    "prl = otp.ObSnapshotFlat(db='CME_SAMPLE', tick_type='PRL_FULL', max_levels=3, running=True)\n",
    "prl = prl.drop(r\".+TIME\\d\")\n",
    "print(otp.run(prl, symbols=r'NQ\\H24', start=s, end=s + otp.Milli(100)))"
   ]
  },
  {
   "attachments": {},
   "cell_type": "markdown",
   "id": "0543a589-233a-40c3-a232-039f6e4f266c",
   "metadata": {},
   "source": [
    "The {func}`otp.ObSnapshot <onetick.py.ObSnapshot>` method doesn't require specifying `max_levels`. The entire book is returned when the parameter is not specified."
   ]
  },
  {
   "cell_type": "code",
   "execution_count": null,
   "id": "bc86f6d1-a58f-49e8-9498-b274d2537815",
   "metadata": {},
   "outputs": [],
   "source": [
    "prl = otp.ObSnapshot(db='CME_SAMPLE', tick_type='PRL_FULL')\n",
    "otp.run(prl, symbols=r'NQ\\H24', start=s, end=s)"
   ]
  },
  {
   "attachments": {},
   "cell_type": "markdown",
   "id": "d020114d-c9fa-47da-be2d-2802b2695423",
   "metadata": {},
   "source": [
    "## Book Imbalance\n",
    "\n",
    "Let's find the time weighted book imbalance. The imbalance at a given time is defined as the sum of the bid sizes at the top x levels minus the sum of the ask sizes at the top x levels divided by the sum of these two terms: the values close to 1 mean the book is much heavier on the bid side, close to -1 -- on the ask side, equal to zero means the sizes are the same.\n",
    "\n",
    "We display top 3 levels of the book first on every update at any of these levels. There are three ticks (one per level) to represent the book after each update."
   ]
  },
  {
   "cell_type": "code",
   "execution_count": null,
   "id": "91da6ba2",
   "metadata": {},
   "outputs": [],
   "source": [
    "x = 3\n",
    "prl = otp.ObSnapshotWide(db='CME_SAMPLE', tick_type='PRL_FULL', max_levels=x, running=True)\n",
    "otp.run(prl, symbols=r'NQ\\H24', start=s, end=s + otp.Milli(100))"
   ]
  },
  {
   "attachments": {},
   "cell_type": "markdown",
   "id": "3ce5e5aa",
   "metadata": {},
   "source": [
    "Let's compute the total ask and bid volumes and the corresponding imbalance."
   ]
  },
  {
   "cell_type": "code",
   "execution_count": null,
   "id": "7b03f68f",
   "metadata": {},
   "outputs": [],
   "source": [
    "prl = otp.ObSnapshotWide(db='CME_SAMPLE', tick_type='PRL_FULL', max_levels=x, running=True)\n",
    "prl = prl.agg({'ask_vol': otp.agg.sum('ASK_SIZE'), 'bid_vol': otp.agg.sum('BID_SIZE')}, bucket_units='ticks', bucket_interval=x)\n",
    "prl['imb'] = (prl['bid_vol'] - prl['ask_vol']) / (prl['bid_vol'] + prl['ask_vol'])\n",
    "otp.run(prl, symbols=r'NQ\\H24', start=s, end=s + otp.Milli(100))"
   ]
  },
  {
   "attachments": {},
   "cell_type": "markdown",
   "id": "2ff66bf7",
   "metadata": {},
   "source": [
    "We can also compute that stats for the imbalance over time."
   ]
  },
  {
   "cell_type": "code",
   "execution_count": null,
   "id": "313a302c-e485-4f47-82cb-9baeb8c6bc8b",
   "metadata": {},
   "outputs": [],
   "source": [
    "imb_stats = prl.agg({\n",
    "    'tw_imb': otp.agg.tw_average('imb'),\n",
    "    'mean':   otp.agg.average('imb'),\n",
    "    'stdev':  otp.agg.stddev('imb'),\n",
    "})\n",
    "otp.run(imb_stats, symbols=r'NQ\\H24', start=s, end=s + otp.Milli(100))"
   ]
  },
  {
   "attachments": {},
   "cell_type": "markdown",
   "id": "7f607216-7bce-4dcf-a84b-34540a668535",
   "metadata": {},
   "source": [
    "## Book sweep\n",
    "\n",
    "There are two versions of book sweep: by price and by quantity. Book sweep by price, takes a price as an input and returns the total quantity available at that price or better. Book sweep by quantity, takes a quantity as an input and returns the VWAP if the quantity were executed immediately."
   ]
  },
  {
   "cell_type": "code",
   "execution_count": null,
   "id": "f20b35a1",
   "metadata": {},
   "outputs": [],
   "source": [
    "prl = otp.ObSnapshot(db='CME_SAMPLE', tick_type='PRL_FULL', max_levels=10)\n",
    "otp.run(prl, symbols=r'NQ\\H24', start=s, end=s)"
   ]
  },
  {
   "cell_type": "code",
   "execution_count": null,
   "id": "97d3429b-4c5f-4ebd-a155-8593301a557a",
   "metadata": {},
   "outputs": [],
   "source": [
    "def side_to_direction(side):\n",
    "    return 1 if side == 'ASK' else -1\n",
    "\n",
    "def sweep_by_price(side, price):\n",
    "    prl = otp.ObSnapshot(db='CME_SAMPLE', tick_type='PRL_FULL', side=side)\n",
    "    direction = side_to_direction(side)\n",
    "    prl = prl.where(direction * prl['PRICE'] <= direction * price)\n",
    "    prl = prl.agg({'total_qty': otp.agg.sum('SIZE')})\n",
    "    return otp.run(prl, symbols=r'NQ\\H24', start=s, end=s)\n",
    "\n",
    "print(sweep_by_price('BID', 11896))\n",
    "print(sweep_by_price('ASK', 11898))"
   ]
  },
  {
   "cell_type": "code",
   "execution_count": null,
   "id": "c40a0eb2-aa7b-4800-b28b-a69d4c719097",
   "metadata": {},
   "outputs": [],
   "source": [
    "def sweep_by_qty(side, qty):\n",
    "    prl = otp.ObSnapshot(db='CME_SAMPLE', tick_type='PRL_FULL', side=side)\n",
    "    prl = prl.agg({'total_qty': otp.agg.sum('SIZE')}, running=True, all_fields=True)\n",
    "    prl = prl.where(prl['total_qty'] - prl['SIZE'] < qty)\n",
    "    # update the SIZE in the last tick only so that total_qty is exactly qty\n",
    "    prl['SIZE'] = prl.apply(lambda row: row['SIZE'] - (row['total_qty'] - qty) if row['total_qty'] > qty else row['SIZE'])\n",
    "    prl = prl.agg({'VWAP': otp.agg.vwap('PRICE', 'SIZE')})\n",
    "    return otp.run(prl, symbols=r'NQ\\H24', start=s, end=s)\n",
    "print(sweep_by_qty('BID', 10))\n",
    "print(sweep_by_qty('ASK', 10))"
   ]
  },
  {
   "attachments": {},
   "cell_type": "markdown",
   "id": "0aa8f44c-073a-4078-b5dd-7664c26fc3fe",
   "metadata": {},
   "source": [
    "## Market By Order\n",
    "Order Book data may be annotated with 'key' field that lets us break down the book by each value of the 'key' field. For example, a book could by keyed by market participant ID, allowing us to see the book with the orders of a given market participant only. Some exchanges provide 'market-by-order' data where the book is keyed by order id. Set `show_full_detail` to `True` to see the book broken down to the most granular level. The example below is a market-by-order book."
   ]
  },
  {
   "cell_type": "code",
   "execution_count": null,
   "id": "77e07c18-6e71-4b05-825b-bb5bdb54518d",
   "metadata": {},
   "outputs": [],
   "source": [
    "prl = otp.ObSnapshot('CME_SAMPLE', tick_type='PRL_FULL', side='BID', show_full_detail=True)\n",
    "orders = otp.run(prl, symbols=r'NQ\\H24', start=s, end=s)\n",
    "orders = orders[['ORDER_ID', 'PRICE', 'LEVEL', 'TIME_PRIORITY', 'SIZE', 'BUY_SELL_FLAG', 'ORDER_TYPE']]\n",
    "orders.head()"
   ]
  },
  {
   "attachments": {},
   "cell_type": "markdown",
   "id": "cf1d6f07-69d8-4017-a690-f4ff914cb027",
   "metadata": {},
   "source": [
    "Market-by-order data can be used to analyze/validate the priority mechanism used by the exchange."
   ]
  },
  {
   "cell_type": "code",
   "execution_count": null,
   "id": "05546b5b-f5b9-44e2-a722-acefb2c1662f",
   "metadata": {},
   "outputs": [],
   "source": [
    "prl = otp.ObSnapshot('CME_SAMPLE', tick_type='PRL_FULL', side='BID', show_full_detail=True)\n",
    "\n",
    "\"\"\"\n",
    "ORDER_TYPE:\n",
    "L = Limit order\n",
    "I = Implied order\n",
    "\n",
    "Implied liquidity doesn’t have priority as it's always last to execute at any price level.\n",
    "It also doesn’t have an order ID, so the IDs that we see in the db are synthetic\n",
    "(consisting of 1 or 2 for the 1st/2nd implied level, and E/F for the buy/sell side respectively).\n",
    "\n",
    "In order to rank the orders within a given price point by priority, we need to sort first by ORDER_TYPE (“L” comes before “I”),\n",
    "then by TIME_PRIORITY (lowest value comes first).\n",
    "\"\"\"\n",
    "prl = prl.sort(['LEVEL', 'ORDER_TYPE', 'TIME_PRIORITY'], ascending=[True, False, True])\n",
    "orders = otp.run(prl, symbols=r'NQ\\H24', start=s, end=s)\n",
    "orders = orders[['ORDER_ID', 'PRICE', 'LEVEL', 'TIME_PRIORITY', 'SIZE', 'BUY_SELL_FLAG', 'ORDER_TYPE']]\n",
    "orders.head()"
   ]
  }
 ],
 "metadata": {
  "kernelspec": {
   "display_name": "Python 3 (ipykernel)",
   "language": "python",
   "name": "python3"
  },
  "language_info": {
   "codemirror_mode": {
    "name": "ipython",
    "version": 3
   },
   "file_extension": ".py",
   "mimetype": "text/x-python",
   "name": "python",
   "nbconvert_exporter": "python",
   "pygments_lexer": "ipython3",
   "version": "3.9.6"
  }
 },
 "nbformat": 4,
 "nbformat_minor": 5
}
