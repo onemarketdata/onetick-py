{
 "cells": [
  {
   "cell_type": "markdown",
   "id": "999d0fc3-6270-4e6c-ac09-f5a437e31400",
   "metadata": {},
   "source": [
    "# Creating Bars"
   ]
  },
  {
   "cell_type": "markdown",
   "id": "c12ee669-644e-48f7-9a05-ee2dc605b250",
   "metadata": {},
   "source": [
    "We create 1-minute bars (bucket_interval=60 seconds) below."
   ]
  },
  {
   "cell_type": "code",
   "execution_count": null,
   "id": "9418cf3b-6f4a-41a6-a7b8-36a44b132ece",
   "metadata": {},
   "outputs": [],
   "source": [
    "import onetick.py as otp\n",
    "\n",
    "trd = otp.DataSource('US_COMP_SAMPLE', tick_type='TRD')\n",
    "\n",
    "trd = trd.character_present(trd['COND'], 'O6TUHILNRWZ47QMBCGPV', discard_on_match=True)\n",
    "\n",
    "bars = trd.agg({'VOLUME': otp.agg.sum('SIZE'),\n",
    "                'HIGH': otp.agg.max('PRICE'),\n",
    "                'LOW': otp.agg.min('PRICE'),\n",
    "                'OPEN': otp.agg.first('PRICE'),\n",
    "                'COUNT': otp.agg.count(),\n",
    "                'CLOSE': otp.agg.last('PRICE')},\n",
    "                bucket_interval=otp.Minute(1))\n",
    "\n",
    "otp.run(\n",
    "    bars,\n",
    "    symbols=['AAPL'],\n",
    "    start=otp.dt(2024, 2, 1, 9, 30),\n",
    "    end=otp.dt(2024, 2, 1, 10),\n",
    "    timezone='EST5EDT'\n",
    ")"
   ]
  },
  {
   "cell_type": "markdown",
   "id": "78f2f1f4-84c5-415b-976f-00536570558f",
   "metadata": {},
   "source": [
    "<div class=\"alert alert-block alert-info\">\n",
    "Note: OneTick Cloud has minute bars precomputed and available in *_BARS databases under the tick type TRD_1M.\n",
    "</div>"
   ]
  },
  {
   "cell_type": "markdown",
   "id": "571dd136-0718-4bc9-b257-709948dc2706",
   "metadata": {},
   "source": [
    "Daily OHLCV data with the official closing prices is also available: see [OHLCV](../daily_OHLCV.ipynb).\n",
    "\n",
    "Note the use of {func}`apply_times_daily <onetick.py.run>` to limit each day's interval to 9:30-4:00pm (plus one minute is added as the minute bar for 9:30-9:31 has the timestamp of 9:31)."
   ]
  },
  {
   "cell_type": "code",
   "execution_count": null,
   "id": "555682c0-a7a3-49ab-869e-444fbc837f8a",
   "metadata": {},
   "outputs": [],
   "source": [
    "bars = otp.DataSource('US_COMP_BARS', tick_type='TRD_1M')\n",
    "bars = bars[['FIRST', 'HIGH', 'LOW', 'LAST', 'VOLUME']]\n",
    "otp.run(\n",
    "    bars,\n",
    "    symbols=['AAPL'],\n",
    "    start=otp.dt(2024, 2, 1, 9, 31),\n",
    "    end=otp.dt(2024, 2, 1, 16, 1),\n",
    "    timezone='EST5EDT',\n",
    "    apply_times_daily=True)"
   ]
  }
 ],
 "metadata": {
  "kernelspec": {
   "display_name": "Python 3 (ipykernel)",
   "language": "python",
   "name": "python3"
  },
  "language_info": {
   "codemirror_mode": {
    "name": "ipython",
    "version": 3
   },
   "file_extension": ".py",
   "mimetype": "text/x-python",
   "name": "python",
   "nbconvert_exporter": "python",
   "pygments_lexer": "ipython3",
   "version": "3.9.6"
  }
 },
 "nbformat": 4,
 "nbformat_minor": 5
}
