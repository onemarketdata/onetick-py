{
 "cells": [
  {
   "cell_type": "markdown",
   "id": "ecafd266-0bce-4a5f-a101-bfbb947508b9",
   "metadata": {},
   "source": [
    "# Point-in-time benchmarks: BBO at different markouts"
   ]
  },
  {
   "cell_type": "markdown",
   "id": "49cf3cea-f0fb-431b-b0ab-6eb6ea4c7a02",
   "metadata": {},
   "source": [
    "Find the prevailing quote at different time intervals (markouts) before/after each trade."
   ]
  },
  {
   "cell_type": "code",
   "execution_count": null,
   "id": "cf2216e1-5b26-44a1-bb78-74747a408bfe",
   "metadata": {},
   "outputs": [],
   "source": [
    "import onetick.py as otp\n",
    "\n",
    "markouts = [-1, 0, 1, 5, 60, 600]\n",
    "\n",
    "trd = otp.DataSource('US_COMP_SAMPLE', tick_type='TRD')\n",
    "trd = trd[['PRICE', 'SIZE']]\n",
    "\n",
    "qte_by_markout = []\n",
    "for m in markouts:\n",
    "    mr = str(m).replace('-', 'm')\n",
    "    qte = otp.DataSource('US_COMP_SAMPLE',\n",
    "                         tick_type='NBBO',\n",
    "                         back_to_first_tick=otp.Hour(24))\n",
    "    qte = qte[['ASK_PRICE', 'BID_PRICE']]\n",
    "    qte = qte.rename({'ASK_PRICE': f'ASK_PRICE_{mr}',\n",
    "                      'BID_PRICE': f'BID_PRICE_{mr}'})\n",
    "    qte[f'quote_time_{mr}'] = qte['Time']\n",
    "\n",
    "    # shift the data by m seconds\n",
    "    qte = qte.time_interval_shift(m * 1000)\n",
    "    qte_by_markout.append(qte)\n",
    "\n",
    "trd = otp.join_by_time([trd] + qte_by_markout)\n",
    "otp.run(\n",
    "    trd,\n",
    "    symbols=['AAPL'],\n",
    "    start=otp.dt(2024, 2, 1, 9, 30),\n",
    "    end=otp.dt(2024, 2, 1, 9, 30, 1),\n",
    "    timezone='EST5EDT',\n",
    ")"
   ]
  }
 ],
 "metadata": {
  "kernelspec": {
   "display_name": "Python 3 (ipykernel)",
   "language": "python",
   "name": "python3"
  },
  "language_info": {
   "codemirror_mode": {
    "name": "ipython",
    "version": 3
   },
   "file_extension": ".py",
   "mimetype": "text/x-python",
   "name": "python",
   "nbconvert_exporter": "python",
   "pygments_lexer": "ipython3",
   "version": "3.9.6"
  }
 },
 "nbformat": 4,
 "nbformat_minor": 5
}
