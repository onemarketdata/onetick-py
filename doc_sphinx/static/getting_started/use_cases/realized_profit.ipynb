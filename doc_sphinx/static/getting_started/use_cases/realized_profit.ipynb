{
 "cells": [
  {
   "cell_type": "markdown",
   "id": "c4a83ac5-3bf2-4c30-85ce-da60ebeb5bfd",
   "metadata": {},
   "source": [
    "# Realized P&L on the FIFO basis"
   ]
  },
  {
   "cell_type": "markdown",
   "id": "c6446898-ffc7-4022-8fdf-8e63a5e09be3",
   "metadata": {},
   "source": [
    "Realized P&L is computed by keeping track of each buy and sell in the chronological order and updating the total using the oldest matching execution from the opposite side (FIFO). We'll use the following sequence of trades for illustration."
   ]
  },
  {
   "cell_type": "code",
   "execution_count": null,
   "id": "691700d1-aafd-4cf4-b91a-63cf71401278",
   "metadata": {},
   "outputs": [],
   "source": [
    "import onetick.py as otp\n",
    "\n",
    "trades = otp.Ticks(\n",
    "    SIDE=['B', 'B', 'B', 'S', 'S', 'S', 'S', 'S', 'B', 'B', 'S'],\n",
    "    PRICE=[1.0, 2.0, 3.0, 2.5, 4.0, 5.0, 6.0, 7.0, 3.0, 4.0, 1.0],\n",
    "    SIZE=[700, 20, 570, 600, 100, 100, 100, 100, 150, 10, 100],\n",
    ")\n",
    "\n",
    "otp.run(trades)"
   ]
  },
  {
   "cell_type": "markdown",
   "id": "75bdd363",
   "metadata": {},
   "source": [
    "## (New way) Using ``pnl_realized`` OneTick method"
   ]
  },
  {
   "cell_type": "code",
   "execution_count": null,
   "id": "75af5658",
   "metadata": {},
   "outputs": [],
   "source": [
    "pnl_r = trades.pnl_realized(buy_sell_flag_field='SIDE', output_field_name='PROFIT')\n",
    "pnl_r = pnl_r.agg({'TOTAL_PROFIT': otp.agg.sum('PROFIT')}, running=True, all_fields=True)\n",
    "otp.run(pnl_r)"
   ]
  },
  {
   "cell_type": "markdown",
   "id": "d222aab0-5ced-4ebd-b4d8-f5b1ba6edddc",
   "metadata": {},
   "source": [
    "## (Old way) Manual implementation\n",
    "We define the deque variables to keep the buy and sell trades as they arrive. Note that the variables are associated with the trades time series."
   ]
  },
  {
   "cell_type": "code",
   "execution_count": null,
   "id": "e41760c0-1aed-4156-94fc-24ec62d88c69",
   "metadata": {},
   "outputs": [],
   "source": [
    "trades.state_vars['BUY_DEQUE'] = otp.state.tick_deque()\n",
    "trades.state_vars['SELL_DEQUE'] = otp.state.tick_deque()"
   ]
  },
  {
   "cell_type": "markdown",
   "id": "14d120e2-b369-47f7-9c49-5e80a39e88fd",
   "metadata": {},
   "source": [
    "As every trade arrives, we apply the following function, which updates the deques and computes the realized profit from the trade."
   ]
  },
  {
   "cell_type": "code",
   "execution_count": null,
   "id": "869448f1-8234-45fb-abdc-30ded33b06f5",
   "metadata": {},
   "outputs": [],
   "source": [
    "def fifo_computation_of_realized_profit(tick):\n",
    "    buy_tick = otp.tick_deque_tick()\n",
    "    sell_tick = otp.tick_deque_tick()\n",
    "    tick['PROFIT'] = 0.0\n",
    "\n",
    "    if tick['SIDE'] == 'B':\n",
    "        tick.state_vars['BUY_DEQUE'].push_back(tick)\n",
    "    else:\n",
    "        tick.state_vars['SELL_DEQUE'].push_back(tick)\n",
    "\n",
    "    while tick.state_vars['BUY_DEQUE'].get_size() > 0 and tick.state_vars['SELL_DEQUE'].get_size() > 0:\n",
    "        tick.state_vars['BUY_DEQUE'].get_tick(0, buy_tick)\n",
    "        tick.state_vars['SELL_DEQUE'].get_tick(0, sell_tick)\n",
    "        if buy_tick['SIZE'] > sell_tick['SIZE']:\n",
    "            tick['PROFIT'] += sell_tick['SIZE'] * (sell_tick['PRICE'] - buy_tick['PRICE'])\n",
    "            buy_tick['SIZE'] -= sell_tick['SIZE']\n",
    "            sell_tick['SIZE'] = 0\n",
    "        else:\n",
    "            tick['PROFIT'] += buy_tick['SIZE'] * (sell_tick['PRICE'] - buy_tick['PRICE'])\n",
    "            sell_tick['SIZE'] -= buy_tick['SIZE']\n",
    "            buy_tick['SIZE'] = 0\n",
    "\n",
    "        if buy_tick['SIZE'] == 0:\n",
    "            tick.state_vars['BUY_DEQUE'].pop_front()\n",
    "        if sell_tick['SIZE'] == 0:\n",
    "            tick.state_vars['SELL_DEQUE'].pop_front()"
   ]
  },
  {
   "cell_type": "markdown",
   "id": "69604720-d110-4521-9ba5-c344293d6d49",
   "metadata": {},
   "source": [
    "Total realized profit can now be calculated by applying the function to every trade."
   ]
  },
  {
   "cell_type": "code",
   "execution_count": null,
   "id": "52ed8e9a-ade6-43bd-b152-e47057c66243",
   "metadata": {},
   "outputs": [],
   "source": [
    "trades = trades.script(fifo_computation_of_realized_profit)\n",
    "trades = trades.agg({'TOTAL_PROFIT': otp.agg.sum('PROFIT')}, running=True, all_fields=True)\n",
    "otp.run(trades)"
   ]
  }
 ],
 "metadata": {
  "kernelspec": {
   "display_name": "Python 3 (ipykernel)",
   "language": "python",
   "name": "python3"
  },
  "language_info": {
   "codemirror_mode": {
    "name": "ipython",
    "version": 3
   },
   "file_extension": ".py",
   "mimetype": "text/x-python",
   "name": "python",
   "nbconvert_exporter": "python",
   "pygments_lexer": "ipython3",
   "version": "3.9.6"
  }
 },
 "nbformat": 4,
 "nbformat_minor": 5
}
