{
 "cells": [
  {
   "cell_type": "markdown",
   "id": "fd8c1dd6-ea3b-4aef-aa31-4c6dc0372506",
   "metadata": {},
   "source": [
    "# Prevailing quote at the time of a trade"
   ]
  },
  {
   "cell_type": "code",
   "execution_count": null,
   "id": "208b8f2a-e98a-443d-bdca-35f20e62eec2",
   "metadata": {},
   "outputs": [],
   "source": [
    "import onetick.py as otp\n",
    "\n",
    "trd = otp.DataSource('US_COMP_SAMPLE', tick_type='TRD')\n",
    "trd = trd[['PRICE', 'SIZE']]\n",
    "\n",
    "qte = otp.DataSource('US_COMP_SAMPLE',\n",
    "                     tick_type='NBBO',\n",
    "                     back_to_first_tick=otp.Minute(10))\n",
    "\n",
    "qte = qte[['ASK_PRICE', 'BID_PRICE']]\n",
    "qte['quote_time'] = qte['Time']\n",
    "\n",
    "enriched_trades = otp.join_by_time([trd, qte])\n",
    "\n",
    "otp.run(enriched_trades,\n",
    "        symbols=['AAPL'],\n",
    "        start=otp.dt(2024, 2, 1, 9, 30),\n",
    "        end=otp.dt(2024, 2, 1, 9, 30, 1),\n",
    "        timezone='EST5EDT')"
   ]
  }
 ],
 "metadata": {
  "kernelspec": {
   "display_name": "Python 3 (ipykernel)",
   "language": "python",
   "name": "python3"
  },
  "language_info": {
   "codemirror_mode": {
    "name": "ipython",
    "version": 3
   },
   "file_extension": ".py",
   "mimetype": "text/x-python",
   "name": "python",
   "nbconvert_exporter": "python",
   "pygments_lexer": "ipython3",
   "version": "3.9.6"
  }
 },
 "nbformat": 4,
 "nbformat_minor": 5
}
