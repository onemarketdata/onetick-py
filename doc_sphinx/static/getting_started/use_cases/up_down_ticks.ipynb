{
 "cells": [
  {
   "cell_type": "markdown",
   "id": "d0bfb9a8-f9da-481b-ad63-5c5954565fba",
   "metadata": {},
   "source": [
    "# Upticks / Downticks"
   ]
  },
  {
   "cell_type": "markdown",
   "id": "6850a9e5-1bcf-42b7-9687-885312361134",
   "metadata": {},
   "source": [
    "Let's mark each trade as an uptick if its price is above the last trade's price and as a downtick if it's below."
   ]
  },
  {
   "cell_type": "code",
   "execution_count": null,
   "id": "4cbee298-89fa-43c0-a2f3-7c63da883fd0",
   "metadata": {},
   "outputs": [],
   "source": [
    "import onetick.py as otp\n",
    "\n",
    "def uptick(t):\n",
    "    if t['PRICE'] == otp.nan or t['PRICE'][-1] == otp.nan:\n",
    "        return otp.nan\n",
    "    if t['PRICE'] > t['PRICE'][-1]:\n",
    "        return 1\n",
    "    elif t['PRICE'] < t['PRICE'][-1]:\n",
    "        return -1\n",
    "    else:\n",
    "        return 0\n",
    "\n",
    "trd = otp.DataSource('US_COMP_SAMPLE', tick_type='TRD')\n",
    "trd = trd[['PRICE']]\n",
    "trd['UPTICK'] = trd.apply(uptick)\n",
    "otp.run(\n",
    "    trd,\n",
    "    symbols=['AAPL'],\n",
    "    start=otp.dt(2024, 2, 1, 9, 30),\n",
    "    end=otp.dt(2024, 2, 1, 9, 30, 1),\n",
    ")"
   ]
  }
 ],
 "metadata": {
  "kernelspec": {
   "display_name": "Python 3 (ipykernel)",
   "language": "python",
   "name": "python3"
  },
  "language_info": {
   "codemirror_mode": {
    "name": "ipython",
    "version": 3
   },
   "file_extension": ".py",
   "mimetype": "text/x-python",
   "name": "python",
   "nbconvert_exporter": "python",
   "pygments_lexer": "ipython3",
   "version": "3.9.6"
  }
 },
 "nbformat": 4,
 "nbformat_minor": 5
}
