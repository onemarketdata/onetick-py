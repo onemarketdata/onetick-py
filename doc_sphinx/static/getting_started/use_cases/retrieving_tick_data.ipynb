{
 "cells": [
  {
   "cell_type": "markdown",
   "id": "4c775060-3d68-4051-823f-ce512656feb0",
   "metadata": {},
   "source": [
    "# Retrieving Tick Data"
   ]
  },
  {
   "cell_type": "code",
   "execution_count": null,
   "id": "ce9a51ac-dc75-4302-a8f4-c06d8cc49e54",
   "metadata": {},
   "outputs": [],
   "source": [
    "import onetick.py as otp\n",
    "\n",
    "s = otp.dt(2024, 2, 1, 9, 30)\n",
    "e = otp.dt(2024, 2, 1, 9, 30, 1)\n",
    "trd = otp.DataSource('US_COMP_SAMPLE', tick_type='TRD')\n",
    "otp.run(trd, start=s, end=e, symbols=['AAPL'], timezone='EST5EDT')"
   ]
  }
 ],
 "metadata": {
  "kernelspec": {
   "display_name": "Python 3 (ipykernel)",
   "language": "python",
   "name": "python3"
  },
  "language_info": {
   "codemirror_mode": {
    "name": "ipython",
    "version": 3
   },
   "file_extension": ".py",
   "mimetype": "text/x-python",
   "name": "python",
   "nbconvert_exporter": "python",
   "pygments_lexer": "ipython3",
   "version": "3.9.6"
  }
 },
 "nbformat": 4,
 "nbformat_minor": 5
}
