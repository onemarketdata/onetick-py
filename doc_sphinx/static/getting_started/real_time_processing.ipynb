{
 "cells": [
  {
   "attachments": {},
   "cell_type": "markdown",
   "id": "566abfec-929b-4865-9076-2a4295877b44",
   "metadata": {},
   "source": [
    "# Real-time processing\n",
    "All of the queries can run in real-time mode. Real-time processing is enabled via callbacks. We illustrate this on the signal generation use case."
   ]
  },
  {
   "attachments": {},
   "cell_type": "markdown",
   "id": "3c0ad09c-2978-4d1d-aa1f-57def7c59224",
   "metadata": {},
   "source": [
    "(goldencross)=\n",
    "# Use case: Signal Generation\n",
    "\n",
    "We'll compute golden cross signals using 50-second and 200-second moving averages\n",
    "- 'Entries' is set to 1 when the short-term moving average goes above the long term (i.e., a signal to buy)\n",
    "- 'Exits' is set to 1 on when the short-term moving average goes below the long term (i.e., a signal to sell)"
   ]
  },
  {
   "cell_type": "code",
   "execution_count": null,
   "id": "f4b3ee58-dff8-4d85-9b60-63157a439ebb",
   "metadata": {},
   "outputs": [],
   "source": [
    "import onetick.py as otp\n",
    "\n",
    "trd = otp.DataSource(tick_type='TRD', schema={'PRICE': float})\n",
    "trd = trd[['PRICE']]\n",
    "\n",
    "trd = trd.agg({'short': otp.agg.mean('PRICE')}, bucket_interval=60, running=True, all_fields=True)\n",
    "trd = trd.agg({'long': otp.agg.mean('PRICE')}, bucket_interval=60 * 5, running=True, all_fields=True)\n",
    "\n",
    "trd['buy'] = (trd['short'][-1] < trd['long'][-1]) & (trd['short'] > trd['long'])\n",
    "trd['sell'] = (trd['short'][-1] > trd['long'][-1]) & (trd['short'] < trd['long'])"
   ]
  },
  {
   "attachments": {},
   "cell_type": "markdown",
   "id": "29b1a9b2-9db7-4ebd-9388-1cacadbf377b",
   "metadata": {},
   "source": [
    "We define a callback that for every tick (i.e., on every trade) will\n",
    "- print a '.' if there is no signal\n",
    "- print out the tick followed by 'BUY' on an entry signal\n",
    "- print out the tick followed by 'SELL' on an exit signal"
   ]
  },
  {
   "cell_type": "code",
   "execution_count": null,
   "id": "17e11a3c-ff47-47e8-9b12-113950ba9edb",
   "metadata": {},
   "outputs": [],
   "source": [
    "class GoldenCrossCallback(otp.CallbackBase):\n",
    "    def process_tick(self, tick, time):\n",
    "        if not tick['buy'] and not tick['sell']:\n",
    "            # print('.', end='')\n",
    "            return\n",
    "        # print()\n",
    "        # print()\n",
    "        print(time, tick)\n",
    "        if tick['buy']:\n",
    "            print('BUY')\n",
    "        if tick['sell']:\n",
    "            print('SELL')\n",
    "        print()"
   ]
  },
  {
   "attachments": {},
   "cell_type": "markdown",
   "id": "0804c949-b787-4593-adf8-3ddf70499334",
   "metadata": {},
   "source": [
    "The query will run continuously with the output printed as the events happen\n",
    "if the database and start/end times are set accordingly (see the commented out lines).\n",
    "With the US_COMP_SAMPLE database used and the time interval set in the past, the query will work in \"historical\" mode."
   ]
  },
  {
   "cell_type": "code",
   "execution_count": null,
   "id": "6aaabe9f-b240-41cc-af02-2542a0ade134",
   "metadata": {
    "tags": []
   },
   "outputs": [],
   "source": [
    "# timestamps appear in GMT\n",
    "cb = GoldenCrossCallback()\n",
    "otp.run(trd,\n",
    "        callback=cb, running=True,\n",
    "        symbols='US_COMP_SAMPLE::AMZN',\n",
    "        start=otp.dt(2024, 2, 1, 10), end=otp.dt(2024, 2, 1, 11),\n",
    "        # symbols='US_COMP::AMZN',\n",
    "        # start=otp.dt.now(), end=otp.dt.now() + otp.Day(1),\n",
    ")"
   ]
  }
 ],
 "metadata": {
  "kernelspec": {
   "display_name": "Python 3 (ipykernel)",
   "language": "python",
   "name": "python3"
  },
  "language_info": {
   "codemirror_mode": {
    "name": "ipython",
    "version": 3
   },
   "file_extension": ".py",
   "mimetype": "text/x-python",
   "name": "python",
   "nbconvert_exporter": "python",
   "pygments_lexer": "ipython3",
   "version": "3.9.8"
  }
 },
 "nbformat": 4,
 "nbformat_minor": 5
}
