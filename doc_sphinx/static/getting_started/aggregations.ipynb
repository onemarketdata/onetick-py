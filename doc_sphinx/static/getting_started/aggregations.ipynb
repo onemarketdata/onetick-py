{
 "cells": [
  {
   "attachments": {},
   "cell_type": "markdown",
   "id": "aef8b826",
   "metadata": {},
   "source": [
    "# Aggregating"
   ]
  },
  {
   "attachments": {},
   "cell_type": "markdown",
   "id": "157bf535-0415-431d-a9d7-0375319e6bf1",
   "metadata": {},
   "source": [
    "Let's start with an unaggregated time series."
   ]
  },
  {
   "cell_type": "code",
   "execution_count": null,
   "id": "91d63514-8e66-4680-be77-252937bdd85d",
   "metadata": {},
   "outputs": [],
   "source": [
    "import onetick.py as otp\n",
    "\n",
    "s = otp.dt(2024, 2, 1, 9, 30)\n",
    "e = otp.dt(2024, 2, 1, 9, 30, 1)\n",
    "\n",
    "q = otp.DataSource('US_COMP_SAMPLE', tick_type='TRD')\n",
    "q = q[['PRICE', 'SIZE', 'COND', 'EXCHANGE']]\n",
    "otp.run(q, start=s, end=e, symbols=['AAPL'])"
   ]
  },
  {
   "attachments": {},
   "cell_type": "markdown",
   "id": "56dbfa00-45b9-408c-bfc0-3ea78f601498",
   "metadata": {},
   "source": [
    "Let's make a note of the total number of trades.\n",
    "\n",
    "Method {meth}`agg <onetick.py.Source.agg>` can be used to aggregate data.\n",
    "\n",
    "We can aggregate over the entire queried interval by default:"
   ]
  },
  {
   "cell_type": "code",
   "execution_count": null,
   "id": "34a94316-be74-4548-9f2f-0c7ea6781289",
   "metadata": {},
   "outputs": [],
   "source": [
    "q = otp.DataSource('US_COMP_SAMPLE', tick_type='TRD')\n",
    "q = q[['PRICE', 'SIZE', 'COND', 'EXCHANGE']]\n",
    "q = q.agg({\n",
    "    'volume': otp.agg.sum('SIZE'),\n",
    "    'vwap': otp.agg.vwap('PRICE', 'SIZE'),\n",
    "    'count': otp.agg.count(),\n",
    "})\n",
    "otp.run(q, start=s, end=e, symbols=['AAPL'])"
   ]
  },
  {
   "attachments": {},
   "cell_type": "markdown",
   "id": "53f66ca3-1029-49d3-97c0-c1f4dd3ad842",
   "metadata": {},
   "source": [
    "Or over fixed buckets (aka bars or windows), for example 100 milliseconds buckets:"
   ]
  },
  {
   "cell_type": "code",
   "execution_count": null,
   "id": "2d408201-90be-44e1-b8c5-0f4dc371e799",
   "metadata": {},
   "outputs": [],
   "source": [
    "q = otp.DataSource('US_COMP_SAMPLE', tick_type='TRD')\n",
    "q = q[['PRICE', 'SIZE', 'COND', 'EXCHANGE']]\n",
    "q = q.agg({\n",
    "    'volume': otp.agg.sum('SIZE'),\n",
    "    'vwap': otp.agg.vwap('PRICE', 'SIZE')\n",
    "}, bucket_interval=.1)\n",
    "otp.run(q, start=s, end=e, symbols=['AAPL'])"
   ]
  },
  {
   "attachments": {},
   "cell_type": "markdown",
   "id": "038be2be-08c2-432f-88c0-a021d3e6a737",
   "metadata": {},
   "source": [
    "Or over a sliding window:"
   ]
  },
  {
   "cell_type": "code",
   "execution_count": null,
   "id": "60d494a6-58ba-4b0a-9f5e-f6f01ecb9987",
   "metadata": {},
   "outputs": [],
   "source": [
    "q = otp.DataSource('US_COMP_SAMPLE', tick_type='TRD')\n",
    "q = q[['PRICE', 'SIZE', 'COND', 'EXCHANGE']]\n",
    "q = q.agg({\n",
    "    'volume': otp.agg.sum('SIZE'),\n",
    "    'vwap': otp.agg.vwap('PRICE', 'SIZE')\n",
    "}, bucket_interval=.1, running=True)\n",
    "otp.run(q, start=s, end=e, symbols=['AAPL'])"
   ]
  },
  {
   "attachments": {},
   "cell_type": "markdown",
   "id": "66ad92c4-2944-43c0-b950-7f6888f74867",
   "metadata": {},
   "source": [
    "Note that the number of output ticks is more than the number of  trades. This is due to the output tick being created not only when each input tick enters the window but also when it drops out."
   ]
  },
  {
   "attachments": {},
   "cell_type": "markdown",
   "id": "8d28f734-8ffe-4525-9261-6f000944d27f",
   "metadata": {},
   "source": [
    "We can display all fields of the incoming tick along with the current values of the sliding window metrics."
   ]
  },
  {
   "cell_type": "code",
   "execution_count": null,
   "id": "fad649b3-41c1-4dbb-b130-12f47eac85e1",
   "metadata": {},
   "outputs": [],
   "source": [
    "q = otp.DataSource('US_COMP_SAMPLE', tick_type='TRD')\n",
    "q = q[['PRICE', 'SIZE', 'COND', 'EXCHANGE']]\n",
    "q = q.agg({\n",
    "    'volume': otp.agg.sum('SIZE'),\n",
    "    'vwap': otp.agg.vwap('PRICE', 'SIZE')\n",
    "}, bucket_interval=.1, running=True, all_fields=True)\n",
    "otp.run(q, start=s, end=e, symbols=['AAPL'])"
   ]
  },
  {
   "attachments": {},
   "cell_type": "markdown",
   "id": "97d03ed4-cbf3-49e6-9989-8fee3b49b172",
   "metadata": {},
   "source": [
    "In this case, we are back to the same number of ticks as the number trades as an output tick is only created on arrival of an input tick."
   ]
  },
  {
   "attachments": {},
   "cell_type": "markdown",
   "id": "9e7454b1-deda-48dc-8a01-da63d48b4a5e",
   "metadata": {},
   "source": [
    "All of the aggregation operations support grouping."
   ]
  },
  {
   "cell_type": "code",
   "execution_count": null,
   "id": "b37e62f1-ff2c-4913-b9d7-bde925bfface",
   "metadata": {},
   "outputs": [],
   "source": [
    "q = otp.DataSource('US_COMP_SAMPLE', tick_type='TRD')\n",
    "q = q[['PRICE', 'SIZE', 'COND', 'EXCHANGE']]\n",
    "q = q.agg({\n",
    "    'volume': otp.agg.sum('SIZE'),\n",
    "    'vwap': otp.agg.vwap('PRICE', 'SIZE')\n",
    "}, group_by=['EXCHANGE'])\n",
    "otp.run(q, start=s, end=e, symbols=['AAPL'])"
   ]
  },
  {
   "cell_type": "markdown",
   "id": "0c45c074",
   "metadata": {},
   "source": [
    "Note that in non-running mode OneTick unconditionally divides the whole time interval\n",
    "into specified number of buckets.\n",
    "It means that you will always get this specified number of ticks in the result,\n",
    "even if you have less ticks in the input data.\n",
    "For example, aggregating this empty data will result in 10 ticks nonetheless:"
   ]
  },
  {
   "cell_type": "code",
   "execution_count": null,
   "id": "1397049e",
   "metadata": {},
   "outputs": [],
   "source": [
    "t = otp.Empty()\n",
    "t = t.agg({'COUNT': otp.agg.count()}, bucket_interval=0.1)\n",
    "otp.run(t, start=s, end=e)"
   ]
  },
  {
   "attachments": {},
   "cell_type": "markdown",
   "id": "4fefcfd9-3ed8-4341-968e-a9ea9fe81bf7",
   "metadata": {},
   "source": [
    "A list of all aggregations appears [here](../../api/aggregations/root.rst). It can also be retrieved with `dir(otp.agg)`."
   ]
  },
  {
   "attachments": {},
   "cell_type": "markdown",
   "id": "ccafbd04-38c1-4b7a-b4cf-5cda4bbc521f",
   "metadata": {},
   "source": [
    "## Aggregation Use Cases\n",
    "\n",
    "[Creating Bars](./use_cases/creating_bars.ipynb)\n",
    "\n",
    "[Golden Cross strategy](goldencross)"
   ]
  }
 ],
 "metadata": {
  "kernelspec": {
   "display_name": "Python 3 (ipykernel)",
   "language": "python",
   "name": "python3"
  },
  "language_info": {
   "codemirror_mode": {
    "name": "ipython",
    "version": 3
   },
   "file_extension": ".py",
   "mimetype": "text/x-python",
   "name": "python",
   "nbconvert_exporter": "python",
   "pygments_lexer": "ipython3",
   "version": "3.9.6"
  }
 },
 "nbformat": 4,
 "nbformat_minor": 5
}
