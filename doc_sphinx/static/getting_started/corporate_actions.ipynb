{
 "cells": [
  {
   "cell_type": "markdown",
   "id": "77464d32-356e-47a4-9785-236538354ba4",
   "metadata": {},
   "source": [
    "# Corporate Actions"
   ]
  },
  {
   "cell_type": "markdown",
   "id": "07109363-b86e-44cc-ad28-6de3f22b686b",
   "metadata": {},
   "source": [
    "```{note}\n",
    "This is part of the {ref}`OQD` offering.\n",
    "Available in OneTick Cloud.\n",
    "Can be configured on prem.\n",
    "```"
   ]
  },
  {
   "cell_type": "markdown",
   "id": "ff008918-52a9-47ff-ad2f-31cd01f73ef5",
   "metadata": {},
   "source": [
    "# Adjusting prices for corporate actions\n",
    "\n",
    "We can use built-in functions to adjust price and volume for corporate actions. \n",
    "\n",
    "We follow an example of a 1:15 split for MKD on May 23, 2022. First let's review the unadjusted data: there appears to be a price jump."
   ]
  },
  {
   "cell_type": "code",
   "execution_count": null,
   "id": "ce835966-ff9d-49ca-9699-8fa492c3b825",
   "metadata": {},
   "outputs": [],
   "source": [
    "import onetick.py as otp\n",
    "import matplotlib\n",
    "\n",
    "trd = otp.DataSource('US_COMP', tick_type='TRD', start=otp.dt(2022, 5, 20, 9, 30), end=otp.dt(2022, 5, 24, 16))\n",
    "t = otp.run(trd, symbols='MKD')\n",
    "t.plot(x='Time', y='PRICE')"
   ]
  },
  {
   "cell_type": "markdown",
   "id": "dce18f90-916c-4cc8-9d0d-5425a63becc4",
   "metadata": {},
   "source": [
    "Adding adjustment for corporate actions fixes this. The prices are adjusted to the level before or after the split depending on the value of the `adjustement_date` parameter. The next two examples illustrate this."
   ]
  },
  {
   "cell_type": "code",
   "execution_count": null,
   "id": "b87b8a61-6895-4494-a02a-86005003d3b5",
   "metadata": {},
   "outputs": [],
   "source": [
    "trd = otp.DataSource('US_COMP',\n",
    "                     tick_type='TRD',\n",
    "                     start=otp.dt(2022, 5, 20, 9, 30),\n",
    "                     end=otp.dt(2022, 5, 24, 16))\n",
    "trd = otp.functions.corp_actions(trd,\n",
    "                                 adjustment_date=20220524,\n",
    "                                 fields=\"PRICE\")\n",
    "\n",
    "r = otp.run(trd, symbols='MKD', symbol_date=otp.dt(2022, 5, 20))\n",
    "r.plot(x='Time', y='PRICE')"
   ]
  },
  {
   "cell_type": "code",
   "execution_count": null,
   "id": "d0191632-6df4-4203-8e59-e9a3fa773523",
   "metadata": {},
   "outputs": [],
   "source": [
    "trd = otp.DataSource('US_COMP',\n",
    "                     tick_type='TRD',\n",
    "                     start=otp.dt(2022, 5, 20, 9, 30),\n",
    "                     end=otp.dt(2022, 5, 24, 16))\n",
    "trd = otp.functions.corp_actions(trd,\n",
    "                                 adjustment_date=20220520,\n",
    "                                 fields=\"PRICE\")\n",
    "\n",
    "r = otp.run(trd, symbols='MKD', symbol_date=otp.dt(2022, 5, 20))\n",
    "r.plot(x='Time', y='PRICE')"
   ]
  },
  {
   "cell_type": "markdown",
   "id": "5d61f599-5f4d-4b1c-a12d-be0b5d16559c",
   "metadata": {},
   "source": [
    "Adjustment can be applied to sizes in a similar way."
   ]
  },
  {
   "cell_type": "code",
   "execution_count": null,
   "id": "f10f2416-d436-49a4-906a-9602a943dfc9",
   "metadata": {},
   "outputs": [],
   "source": [
    "trd = otp.DataSource('US_COMP',\n",
    "                     tick_type='TRD',\n",
    "                     start=otp.dt(2022, 5, 20, 9, 30),\n",
    "                     end=otp.dt(2022, 5, 24, 16))\n",
    "\n",
    "r = otp.run(trd, symbols='MKD', symbol_date=otp.dt(2022, 5, 20))\n",
    "r.plot(x='Time', y='SIZE')"
   ]
  },
  {
   "cell_type": "code",
   "execution_count": null,
   "id": "5b0135db-c4a2-4e77-9691-aad9df241777",
   "metadata": {},
   "outputs": [],
   "source": [
    "trd = otp.DataSource('US_COMP',\n",
    "                     tick_type='TRD',\n",
    "                     start=otp.dt(2022, 5, 20, 9, 30),\n",
    "                     end=otp.dt(2022, 5, 24, 16))\n",
    "trd = otp.functions.corp_actions(trd,\n",
    "                                 adjustment_date=20220524,\n",
    "                                 adjust_rule='SIZE',\n",
    "                                 fields='SIZE')\n",
    "\n",
    "r = otp.run(trd, symbols='MKD', symbol_date=otp.dt(2022, 5, 20))\n",
    "r.plot(x='Time', y='SIZE')"
   ]
  },
  {
   "cell_type": "markdown",
   "id": "12ad2156-038b-4aa0-ab2e-004b5968e384",
   "metadata": {},
   "source": [
    "# Retrieving Corporate actions for a symbol\n",
    "We can retrieve all corporate actions for the symbols of interest."
   ]
  },
  {
   "cell_type": "code",
   "execution_count": null,
   "id": "c83df246-39cd-49fd-aa3a-f029f051402a",
   "metadata": {},
   "outputs": [],
   "source": [
    "cacs = otp.oqd.sources.CorporateActions()\n",
    "\n",
    "cacs = otp.merge([cacs], symbols=['TDEQ::::MKD', 'TDEQ::::AAPL'], identify_input_ts=True)\n",
    "\n",
    "otp.run(cacs, start=otp.dt(2020, 5, 1), end=otp.dt(2023, 4, 10), symbol_date=otp.dt(2022, 2, 1))"
   ]
  }
 ],
 "metadata": {
  "kernelspec": {
   "display_name": "Python 3 (ipykernel)",
   "language": "python",
   "name": "python3"
  },
  "language_info": {
   "codemirror_mode": {
    "name": "ipython",
    "version": 3
   },
   "file_extension": ".py",
   "mimetype": "text/x-python",
   "name": "python",
   "nbconvert_exporter": "python",
   "pygments_lexer": "ipython3",
   "version": "3.9.8"
  }
 },
 "nbformat": 4,
 "nbformat_minor": 5
}
