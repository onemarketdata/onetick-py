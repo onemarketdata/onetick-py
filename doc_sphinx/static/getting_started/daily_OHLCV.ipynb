{
 "cells": [
  {
   "attachments": {},
   "cell_type": "markdown",
   "id": "3966fa65-b8a8-4d09-9e2c-e031727a0d8c",
   "metadata": {},
   "source": [
    "# Daily OHLCV (with closing prices)"
   ]
  },
  {
   "attachments": {},
   "cell_type": "markdown",
   "id": "0186c6e6-6979-499f-aadb-4c76b5fa7f5c",
   "metadata": {},
   "source": [
    "```{note}\n",
    "This is part of the {ref}`OQD` offering.\n",
    "Available in OneTick Cloud.\n",
    "Can be configured on prem.\n",
    "```"
   ]
  },
  {
   "attachments": {},
   "cell_type": "markdown",
   "id": "b7336ed2-69ef-4d96-860d-2b13184cfa1b",
   "metadata": {},
   "source": [
    "We can retrieve daily OHLCV data for specific tickers using various symbologies. It's best to use the `GMT` time zone when working with OQD data."
   ]
  },
  {
   "cell_type": "code",
   "execution_count": null,
   "id": "397be0a1-5817-4341-b0b2-4159c32558a8",
   "metadata": {},
   "outputs": [],
   "source": [
    "import onetick.py as otp\n",
    "\n",
    "src = otp.oqd.sources.OHLCV()\n",
    "otp.run(src, symbols=['BTKR::::AAPL US'], start=otp.dt(2022, 10, 1), end=otp.dt(2022, 10, 7),\n",
    "        symbol_date=otp.dt(2022, 10, 1), timezone='GMT')"
   ]
  },
  {
   "cell_type": "markdown",
   "id": "414be8fb",
   "metadata": {},
   "source": [
    "For US equities, 'USPRIM' stands for the primary exchange, 'USCOMP' for the composite, and 'USXNMS' for US Nasdaq. Most of the time you'll be looking for composite, which you can specify at the top:"
   ]
  },
  {
   "cell_type": "code",
   "execution_count": null,
   "id": "525d5aa0",
   "metadata": {},
   "outputs": [],
   "source": [
    "src = otp.oqd.sources.OHLCV(exch='USCOMP')\n",
    "otp.run(src, symbols=['BTKR::::AAPL US'], start=otp.dt(2022, 10, 1), end=otp.dt(2022, 10, 7),\n",
    "        symbol_date=otp.dt(2022, 10, 1), timezone='GMT')"
   ]
  },
  {
   "attachments": {},
   "cell_type": "markdown",
   "id": "478031d0-4e11-4ced-aa39-665fb1764a6a",
   "metadata": {},
   "source": [
    "See examples of other symbologies in [Symbologies](symbologies.ipynb). Note that unlike regular tick data, OHLCV requires ISINs to have a country + exchange suffix (e.g., `ISN::::US0378331005.USCOMP` or `ISN::::GB0000055888.GBXLON`)."
   ]
  },
  {
   "attachments": {},
   "cell_type": "markdown",
   "id": "9926fd46-0ef5-40cf-b04b-740b189c72b1",
   "metadata": {},
   "source": [
    "The most efficient way of retrieving data for a large number of symbols is via OneTick's native OID symbology. We can create a map from the databases's symbology to the OID using the code below or between any two symbologies using the method described in the Symbologies guide."
   ]
  },
  {
   "cell_type": "code",
   "execution_count": null,
   "id": "9a759dec-ac49-4944-b0da-41f6d002f24b",
   "metadata": {},
   "outputs": [],
   "source": [
    "oid = otp.Symbols('US_COMP', symbology='OID', show_original_symbols=True, pattern='11%')\n",
    "oid, _ = oid[oid['SYMBOL_NAME'] != '']\n",
    "otp.run(oid, start=otp.dt(2023, 5, 15), end=otp.dt(2023, 5, 16), timezone='GMT')"
   ]
  },
  {
   "attachments": {},
   "cell_type": "markdown",
   "id": "a0609339-9625-4c4a-a0ec-efa77b72a448",
   "metadata": {},
   "source": [
    "We can now query OHLCV using OIDs. The code below retrieves OHLCV for all US equities for 5 days."
   ]
  },
  {
   "cell_type": "code",
   "execution_count": null,
   "id": "57d0047e-d5da-4256-a307-83da7080765e",
   "metadata": {},
   "outputs": [],
   "source": [
    "ohlcv = otp.oqd.sources.OHLCV(exch='USCOMP')\n",
    "ohlcv['ticker'] = ohlcv.Symbol['ORIGINAL_SYMBOL_NAME', str]\n",
    "ohlcv = otp.merge([ohlcv], symbols=oid)\n",
    "otp.run(ohlcv, start=otp.dt(2023, 5, 15), end=otp.dt(2023, 5, 15, 23), timezone='GMT')"
   ]
  }
 ],
 "metadata": {
  "kernelspec": {
   "display_name": "Python 3 (ipykernel)",
   "language": "python",
   "name": "python3"
  },
  "language_info": {
   "codemirror_mode": {
    "name": "ipython",
    "version": 3
   },
   "file_extension": ".py",
   "mimetype": "text/x-python",
   "name": "python",
   "nbconvert_exporter": "python",
   "pygments_lexer": "ipython3",
   "version": "3.9.6"
  }
 },
 "nbformat": 4,
 "nbformat_minor": 5
}
